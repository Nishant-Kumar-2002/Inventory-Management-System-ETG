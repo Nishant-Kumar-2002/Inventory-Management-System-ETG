{
 "cells": [
  {
   "cell_type": "code",
   "execution_count": 176,
   "id": "fee2991c",
   "metadata": {},
   "outputs": [],
   "source": [
    "fd=open('Records.txt','r')\n",
    "txt=fd.read()\n",
    "fd.close()"
   ]
  },
  {
   "cell_type": "code",
   "execution_count": 177,
   "id": "9d60690a",
   "metadata": {},
   "outputs": [],
   "source": [
    "import json\n",
    "record=json.loads(txt)"
   ]
  },
  {
   "cell_type": "code",
   "execution_count": 178,
   "id": "ba94f393",
   "metadata": {},
   "outputs": [
    {
     "name": "stdout",
     "output_type": "stream",
     "text": [
      "Welcome to NK Mart  !!!\n",
      "Enter your name : harsh\n",
      "Here are our products.\n",
      "-------------------------------------------------------------------------------------------------\n",
      "{'2010301': {'name': 'Rice_brown_1kg', 'stock': 497, 'price': 200, 'mfg_date': 'Aug_2021', 'exp_date': 'Jan_2022'}, '2010302': {'name': 'Rice_white_1kg', 'stock': 2000, 'price': 50, 'mfg_date': 'Aug_2021', 'exp_date': 'Jan_2022'}, '2010303': {'name': 'Honey_100gm', 'stock': 500, 'price': 55, 'mfg_date': 'Aug_2021', 'exp_date': 'Jan_2022'}, '2010304': {'name': 'Biscuits_sweet', 'stock': 500, 'price': 20, 'mfg_date': 'Sep_2021', 'exp_date': 'Feb_2022'}, '2010305': {'name': 'Biscuits_salty', 'stock': 500, 'price': 10, 'mfg_date': 'Sep_2021', 'exp_date': 'Feb_2022'}, '2010306': {'name': 'Biscuits_cream', 'stock': 500, 'price': 30, 'mfg_date': 'Sep_2021', 'exp_date': 'Feb_2022'}, '2010307': {'name': 'Wheat_1kg', 'stock': 2000, 'price': 40, 'mfg_date': 'Aug_2021', 'exp_date': 'Jan_2022'}, '2010308': {'name': 'Wheatflour_1kg', 'stock': 2000, 'price': 40, 'mfg_date': 'Sep_2021', 'exp_date': 'Feb_2022'}, '2010309': {'name': 'Refinedflour_1kg', 'stock': 1000, 'price': 40, 'mfg_date': 'Aug_2021', 'exp_date': 'Jan_2022'}, '2010310': {'name': 'Semolina_1kg', 'stock': 1000, 'price': 50, 'mfg_date': 'Aug_2021', 'exp_date': 'Jan_2022'}, '2010311': {'name': 'Refined_oil_1l', 'stock': 1000, 'price': 150, 'mfg_date': 'Aug_2021', 'exp_date': 'Jan_2022'}, '2010312': {'name': 'Ricebran_oil_1l', 'stock': 1000, 'price': 200, 'mfg_date': 'Aug_2021', 'exp_date': 'Jan_2022'}, '2010313': {'name': 'Mustard_oil_1l', 'stock': 1000, 'price': 200, 'mfg_date': 'Aug_2021', 'exp_date': 'Jan_2022'}, '2010314': {'name': 'Coconut_oil_1l', 'stock': 500, 'price': 350, 'mfg_date': 'Aug_2021', 'exp_date': 'Jan_2022'}, '2010315': {'name': 'Sugar_1kg', 'stock': 1000, 'price': 50, 'mfg_date': 'Aug_2021', 'exp_date': 'Jan_2022'}, '2010316': {'name': 'Salt_1kg', 'stock': 1000, 'price': 20, 'mfg_date': 'Aug_2021', 'exp_date': 'Jan_2022'}, '2010317': {'name': 'Noodles_fam_pack', 'stock': 500, 'price': 100, 'mfg_date': 'Sep_2021', 'exp_date': 'Feb_2022'}, '2010318': {'name': 'Shampoo', 'stock': 500, 'price': 150, 'mfg_date': 'Aug_2021', 'exp_date': 'Jan_2022'}, '2010319': {'name': 'Soap', 'stock': 500, 'price': 40, 'mfg_date': 'Aug_2021', 'exp_date': 'Jan_2022'}, '2010320': {'name': 'Brush_1pc', 'stock': 500, 'price': 50, 'mfg_date': 'Aug_2021', 'exp_date': 'Jan_2022'}, '2010321': {'name': 'Mixture_1kg', 'stock': 500, 'price': 250, 'mfg_date': 'Sep_2021', 'exp_date': 'Feb_2022'}, '2010322': {'name': 'Cold_drinks_2l', 'stock': 500, 'price': 100, 'mfg_date': 'Sep_2021', 'exp_date': 'Feb_2022'}, '2010323': {'name': 'Fruit_juice_1l', 'stock': 499, 'price': 100, 'mfg_date': 'Sep_2021', 'exp_date': 'Feb_2022'}, '2010324': {'name': 'Chocolate_1pc', 'stock': 495, 'price': 50, 'mfg_date': 'Aug_2021', 'exp_date': 'Jan_2022'}, '2010325': {'name': 'Ice_cream_1l', 'stock': 499, 'price': 200, 'mfg_date': 'Sep_2021', 'exp_date': 'Feb_2022'}, '2010326': {'name': 'Tea_leaves_1kg', 'stock': 500, 'price': 300, 'mfg_date': 'Aug_2021', 'exp_date': 'Jan_2022'}, '2010327': {'name': 'Coffee_100gms', 'stock': 500, 'price': 250, 'mfg_date': 'Aug_2021', 'exp_date': 'Jan_2022'}, '2010328': {'name': 'Chicken_500gms', 'stock': 300, 'price': 150, 'mfg_date': 'Sep_2021', 'exp_date': 'Oct_2022'}, '2010329': {'name': 'Fish_500gms', 'stock': 300, 'price': 200, 'mfg_date': 'Sep_2021', 'exp_date': 'Oct_2022'}, '2010330': {'name': 'Mutton_500gms', 'stock': 298, 'price': 300, 'mfg_date': 'Sep_2021', 'exp_date': 'Oct_2022'}}\n",
      "-------------------------------------------------------------------------------------------------\n",
      "Enter id of products you want to purchase : 20192\n",
      "You enterd wrong product id !!!\n",
      "Want to buy more y/n ? n\n"
     ]
    }
   ],
   "source": [
    "print('Welcome to NK Mart  !!!')\n",
    "name = input(\"Enter your name : \")\n",
    "print(\"Here are our products.\")\n",
    "print(\"-------------------------------------------------------------------------------------------------\")\n",
    "print(record)\n",
    "ch='y'\n",
    "fd = open(\"Sales.txt\",'r')\n",
    "txt = fd.read()\n",
    "fd.close()\n",
    "a = json.loads(txt)\n",
    "Trans_id = 1001 + len(a)\n",
    "prod_pur = {}\n",
    "amount = 0\n",
    "while(ch=='y'):\n",
    "    print(\"-------------------------------------------------------------------------------------------------\")\n",
    "    prod_id = input(\"Enter id of products you want to purchase : \")\n",
    "    if(prod_id in prod_pur.keys()):\n",
    "        demand = int(input('Enter no. of items you want : '))\n",
    "        if(demand<record[prod_id]['stock']):\n",
    "            amount = amount + record[prod_id]['price']*demand\n",
    "            prod_pur[prod_id] += demand\n",
    "        else:\n",
    "            print('Sorry,we do not have that much amount of stock.')\n",
    "        ch = input(\"Want to buy more y/n ? \")\n",
    "    elif(prod_id in record.keys()):\n",
    "        demand = int(input('Enter no. of items you want : '))\n",
    "        if(demand<record[prod_id]['stock']):\n",
    "            amount = amount + record[prod_id]['price']*demand\n",
    "            prod_pur[prod_id] = demand\n",
    "        else:\n",
    "            print('Sorry,we do not have that much amount of stock.')\n",
    "        ch = input(\"Want to buy more y/n ? \")\n",
    "    else:\n",
    "        print(\"You enterd wrong product id !!!\")\n",
    "        ch = input(\"Want to buy more y/n ? \")\n",
    "        \n"
   ]
  },
  {
   "cell_type": "code",
   "execution_count": 179,
   "id": "501bf0a6",
   "metadata": {},
   "outputs": [
    {
     "name": "stdout",
     "output_type": "stream",
     "text": [
      "You have purchasd no products.\n",
      "Thanks for coming !!!\n"
     ]
    }
   ],
   "source": [
    "if amount == 0:\n",
    "    print(\"You have purchasd no products.\")\n",
    "    print(\"Thanks for coming !!!\")\n",
    "else:    \n",
    "    print(\"************************************************\")\n",
    "    print(\"Your bill.\")\n",
    "    import time\n",
    "    a = time.ctime()\n",
    "    print(a)\n",
    "    print(\"Transaction Id : \",Trans_id)\n",
    "    print(\"Name : \",name)\n",
    "    print(\"Your purchased products and items\")\n",
    "    for key in prod_pur.keys():\n",
    "        print(key,'-',prod_pur[key] )\n",
    "    print(\"------------------------------------------------\")\n",
    "    print(\"Amount : \",amount)\n",
    "    print(\"Thank you for purchasing from NK Mart.\")\n",
    "    print(\"************************************************\")\n",
    "    \n",
    "    \n",
    "    fd=open('Sales.txt','r')\n",
    "    txt=fd.read()\n",
    "    fd.close()\n",
    "    data = json.loads(txt)\n",
    "    data[Trans_id]={}\n",
    "    data[Trans_id]['time']=a\n",
    "    data[Trans_id]['name']=name\n",
    "    data[Trans_id]['items']=prod_pur\n",
    "    data[Trans_id]['Amount']=amount\n",
    "    \n",
    "    \n",
    "    txt=json.dumps(data)\n",
    "    fd = open(\"Sales.txt\",'w')\n",
    "    fd.write(txt)\n",
    "    fd.close()\n",
    "    \n",
    "    \n",
    "    for key in prod_pur.keys():\n",
    "        record[key]['stock'] -= prod_pur[key]\n",
    "        \n",
    "        \n",
    "    js = json.dumps(record)\n",
    "    fd = open('Records.txt','w')\n",
    "    fd.write(js)\n",
    "    fd.close()    "
   ]
  },
  {
   "cell_type": "code",
   "execution_count": null,
   "id": "8bd76a62",
   "metadata": {},
   "outputs": [],
   "source": []
  }
 ],
 "metadata": {
  "kernelspec": {
   "display_name": "Python 3",
   "language": "python",
   "name": "python3"
  },
  "language_info": {
   "codemirror_mode": {
    "name": "ipython",
    "version": 3
   },
   "file_extension": ".py",
   "mimetype": "text/x-python",
   "name": "python",
   "nbconvert_exporter": "python",
   "pygments_lexer": "ipython3",
   "version": "3.8.8"
  }
 },
 "nbformat": 4,
 "nbformat_minor": 5
}
