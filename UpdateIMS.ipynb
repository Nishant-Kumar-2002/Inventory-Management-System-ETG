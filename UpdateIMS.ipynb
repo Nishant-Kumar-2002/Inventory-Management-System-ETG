{
 "cells": [
  {
   "cell_type": "code",
   "execution_count": 7,
   "id": "30fa2861",
   "metadata": {},
   "outputs": [
    {
     "name": "stdout",
     "output_type": "stream",
     "text": [
      "Welcome to the Inventory !!!\n",
      "    Want to add more stock of existing product enter 'add'\n",
      "    Want to add new product enter 'update' \n",
      "    else enter 'no' no\n",
      "You do not want to update inventory .\n",
      "Thank You.\n"
     ]
    }
   ],
   "source": [
    "fd = open('Records.txt','r')\n",
    "txt =fd.read()\n",
    "fd.close()\n",
    "import json\n",
    "data = json.loads(txt)\n",
    "print(\"Welcome to the Inventory !!!\")\n",
    "ch = True\n",
    "while(ch):\n",
    "    new = input('''    Want to add more stock of existing product enter 'add'\n",
    "    Want to add new product enter 'update' \n",
    "    else enter 'no' ''')   \n",
    "                  \n",
    "         \n",
    "    if(new == 'add'):\n",
    "        prod_id = input(\"Enter product id : \")\n",
    "        stock = int(input(\"Enter the stock you want to add : \"))\n",
    "        mfg_date = input(\"Enter manufacturing date like Sep_2021 : \") \n",
    "        exp_date = input(\"Enter expiry date like Feb_2022 : \")\n",
    "        data[prod_id]['stock'] += stock\n",
    "        data[prod_id]['mfg_date'] = mfg_date\n",
    "        data[prod_id]['exp_date'] = exp_date\n",
    "        print(\"Adding of stock successful .\")\n",
    "        print(\"------------------------------------------------------\")\n",
    "        a = input(\"Want to update more y/n : \")\n",
    "        if (a == 'n'):\n",
    "            ch = False    \n",
    "    elif(new == 'update'):\n",
    "        prod_id = 2010301 + len(data)\n",
    "        data[prod_id] = {}\n",
    "        data[prod_id]['name'] = input(\"Enter product name : \")\n",
    "        data[prod_id]['stock'] = int(input(\"Enter stock of the product : \"))\n",
    "        data[prod_id]['price'] = int(input(\"Enter price of the product : \"))\n",
    "        data[prod_id]['mfg_date'] = input(\"Enter manufacturing date like Sep_2021 : \")\n",
    "        data[prod_id]['exp_date'] = input(\"Enter expiry date like Feb_2022 : \")\n",
    "        print(\"Entry of new product successful .\")\n",
    "        print(\"------------------------------------------------------\")        \n",
    "        a = input(\"Want to update more y/n : \")\n",
    "        if (a == 'n'):\n",
    "            ch = False  \n",
    "    else:\n",
    "        print('You do not want to update inventory .')\n",
    "        \n",
    "        ch = False\n",
    "print(\"Thank You.\")    \n",
    "        \n",
    "        \n",
    "        "
   ]
  },
  {
   "cell_type": "code",
   "execution_count": 8,
   "id": "8a0299f7",
   "metadata": {},
   "outputs": [],
   "source": [
    "txt=json.dumps(data)\n",
    "fd=open('Records.txt','w')\n",
    "fd.write(txt)\n",
    "fd.close()"
   ]
  },
  {
   "cell_type": "code",
   "execution_count": 5,
   "id": "ac069789",
   "metadata": {},
   "outputs": [],
   "source": []
  }
 ],
 "metadata": {
  "kernelspec": {
   "display_name": "Python 3",
   "language": "python",
   "name": "python3"
  },
  "language_info": {
   "codemirror_mode": {
    "name": "ipython",
    "version": 3
   },
   "file_extension": ".py",
   "mimetype": "text/x-python",
   "name": "python",
   "nbconvert_exporter": "python",
   "pygments_lexer": "ipython3",
   "version": "3.8.8"
  }
 },
 "nbformat": 4,
 "nbformat_minor": 5
}
